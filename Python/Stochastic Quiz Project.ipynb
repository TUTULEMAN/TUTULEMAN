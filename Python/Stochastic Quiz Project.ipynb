{
 "cells": [
  {
   "cell_type": "markdown",
   "id": "155c7ee8",
   "metadata": {},
   "source": [
    "$Stochastic$ $Quiz$ $Game$"
   ]
  },
  {
   "cell_type": "code",
   "execution_count": 5,
   "id": "09788912",
   "metadata": {
    "scrolled": true
   },
   "outputs": [
    {
     "name": "stdout",
     "output_type": "stream",
     "text": [
      "Let's play a game.\n",
      "Do you want to play a game? yes\n",
      "Lets play!\n",
      "What's 1+1? 2\n",
      "Correct!\n",
      "What's 24+56? 80\n",
      "Correct!\n",
      "What's 44+27? 71\n",
      "Correct!\n",
      "You got 3 points!\n",
      "Your accuracy was: 100.0%\n"
     ]
    }
   ],
   "source": [
    "print(\"Let's play a game.\")\n",
    "question= input(\"Do you want to play a game? \")\n",
    "if question.lower()!= \"yes\":\n",
    "    end()\n",
    "\n",
    "#could consider adding an API that mixes up numbers for random addition numbers in \"question\"\n",
    "#could consider adding a timer \n",
    "#find out way to generate unlimited amount of random questions until timer=0\n",
    "print(\"Lets play!\")\n",
    "score=0\n",
    "answer=input(\"What's 1+1? \")\n",
    "question= 1+1\n",
    "result= str(question)\n",
    "if answer==result:\n",
    "             print(\"Correct!\")\n",
    "             score+=1\n",
    "else:\n",
    "             print(\"Wrong\")\n",
    "\n",
    "answer=input(\"What's 24+56? \")\n",
    "question= 24+56\n",
    "result= str(question)\n",
    "if answer==result:\n",
    "             print(\"Correct!\")\n",
    "             score+=1\n",
    "else:\n",
    "             print(\"Wrong\")\n",
    "             \n",
    "answer=input(\"What's 44+27? \")\n",
    "question= 44+27\n",
    "result= str(question)\n",
    "if answer==result:\n",
    "             print(\"Correct!\")\n",
    "             score+=1\n",
    "else:\n",
    "             print(\"Wrong\")\n",
    "\n",
    "print(\"You got \"+ str(score)+ \" points!\")\n",
    "accuracy= (score/3)*100\n",
    "print(\"Your accuracy was: \" +str(accuracy)+\"%\")"
   ]
  },
  {
   "cell_type": "markdown",
   "id": "e9d1ee59",
   "metadata": {},
   "source": []
  },
  {
   "cell_type": "code",
   "execution_count": 4,
   "id": "95d4bf2a",
   "metadata": {},
   "outputs": [
    {
     "name": "stdout",
     "output_type": "stream",
     "text": [
      "What's 1+1? 2\n",
      "Correct!\n",
      "You got 1 % points!\n",
      "Your accuracy was: 100.0\n"
     ]
    }
   ],
   "source": []
  },
  {
   "cell_type": "code",
   "execution_count": null,
   "id": "3e0fe53b",
   "metadata": {},
   "outputs": [],
   "source": []
  }
 ],
 "metadata": {
  "kernelspec": {
   "display_name": "Python 3 (ipykernel)",
   "language": "python",
   "name": "python3"
  },
  "language_info": {
   "codemirror_mode": {
    "name": "ipython",
    "version": 3
   },
   "file_extension": ".py",
   "mimetype": "text/x-python",
   "name": "python",
   "nbconvert_exporter": "python",
   "pygments_lexer": "ipython3",
   "version": "3.11.5"
  }
 },
 "nbformat": 4,
 "nbformat_minor": 5
}
