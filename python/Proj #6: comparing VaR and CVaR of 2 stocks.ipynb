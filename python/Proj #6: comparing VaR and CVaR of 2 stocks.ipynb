{
 "cells": [
  {
   "cell_type": "code",
   "execution_count": 1,
   "id": "1c708f6a",
   "metadata": {},
   "outputs": [],
   "source": [
    "import pandas as pd\n",
    "import numpy as np\n",
    "import matplotlib.pyplot as plt\n",
    "from scipy.stats import norm\n",
    "from tabulate import tabulate\n",
    "import yfinance as yf\n",
    "%matplotlib inline"
   ]
  },
  {
   "cell_type": "code",
   "execution_count": 2,
   "id": "51090ed1",
   "metadata": {},
   "outputs": [],
   "source": [
    "ticker= [\"tsla\",\"vfs\"]\n",
    "tesla= \"tsla\"\n",
    "vinfast= \"vfs\""
   ]
  },
  {
   "cell_type": "code",
   "execution_count": 4,
   "id": "73faa64e",
   "metadata": {},
   "outputs": [
    {
     "name": "stderr",
     "output_type": "stream",
     "text": [
      "[*********************100%%**********************]  1 of 1 completed\n",
      "[*********************100%%**********************]  1 of 1 completed\n"
     ]
    }
   ],
   "source": [
    "tesla_stock_data= yf.download(tesla, start=\"2016-01-04\", end=\"2024-03-01\")\n",
    "tsla_daily_close_pct_change = tesla_stock_data['Adj Close'].pct_change().fillna(0)\n",
    "vinfast_stock_data= yf.download(vinfast, start=\"2016-01-04\", end=\"2024-03-01\")\n",
    "vinfast_daily_close_pct_change = vinfast_stock_data['Adj Close'].pct_change().fillna(0)"
   ]
  },
  {
   "cell_type": "code",
   "execution_count": 5,
   "id": "35fa10f1",
   "metadata": {},
   "outputs": [],
   "source": [
    "tsla_daily_close_pct_change.sort_values(inplace=True, ascending=True)\n",
    "vinfast_daily_close_pct_change.sort_values(inplace=True, ascending=True)"
   ]
  },
  {
   "cell_type": "code",
   "execution_count": 9,
   "id": "1c7b601e",
   "metadata": {},
   "outputs": [
    {
     "name": "stdout",
     "output_type": "stream",
     "text": [
      "(-0.03655135049777962, -0.10772806945707714) (-0.05290306764425718, -0.16350346030948137) (-0.09509926026785645, -0.2945820325713783)\n"
     ]
    }
   ],
   "source": [
    "VaR_90 = tsla_daily_close_pct_change.quantile(0.1), vinfast_daily_close_pct_change.quantile(0.1)\n",
    "VaR_95 = tsla_daily_close_pct_change.quantile(0.05),vinfast_daily_close_pct_change.quantile(0.05)\n",
    "VaR_99 = tsla_daily_close_pct_change.quantile(0.01),vinfast_daily_close_pct_change.quantile(0.01)\n",
    "print( VaR_90 ,VaR_95 ,VaR_99 )"
   ]
  },
  {
   "cell_type": "code",
   "execution_count": 16,
   "id": "f98e6723",
   "metadata": {},
   "outputs": [
    {
     "name": "stdout",
     "output_type": "stream",
     "text": [
      "Confidence Level    Value at Risk\n",
      "------------------  --------------------------------------------\n",
      "90%                 (-0.03655135049777962, -0.10772806945707714)\n",
      "95%                 (-0.05290306764425718, -0.16350346030948137)\n",
      "99%                 (-0.09509926026785645, -0.2945820325713783)\n"
     ]
    }
   ],
   "source": [
    "print(tabulate([['90%', VaR_90], ['95%', VaR_95], ['99%', VaR_99]], headers=['Confidence Level', 'Value at Risk']))"
   ]
  },
  {
   "cell_type": "code",
   "execution_count": 22,
   "id": "aa5db2b9",
   "metadata": {},
   "outputs": [],
   "source": [
    "CVaR_90 = tsla_daily_close_pct_change[tsla_daily_close_pct_change <= VaR_90[0]].mean(),vinfast_daily_close_pct_change[vinfast_daily_close_pct_change <= VaR_90[1]].mean()\n",
    "CVaR_95 = tsla_daily_close_pct_change[tsla_daily_close_pct_change <= VaR_95[0]].mean(),vinfast_daily_close_pct_change[vinfast_daily_close_pct_change <= VaR_95[1]].mean()\n",
    "CVaR_99 = tsla_daily_close_pct_change[tsla_daily_close_pct_change <= VaR_99[0]].mean(),vinfast_daily_close_pct_change[vinfast_daily_close_pct_change <= VaR_99[1]].mean()"
   ]
  },
  {
   "cell_type": "code",
   "execution_count": 23,
   "id": "44fcab6b",
   "metadata": {},
   "outputs": [
    {
     "name": "stdout",
     "output_type": "stream",
     "text": [
      "Confidence Level    Conditional Value at Risk (Expected Loss)\n",
      "------------------  --------------------------------------------\n",
      "90%                 (-0.06323208527181967, -0.2010306283829908)\n",
      "95%                 (-0.08210022164999173, -0.2656509955987239)\n",
      "99%                 (-0.13020201190908143, -0.37459646177279576)\n"
     ]
    }
   ],
   "source": [
    "print(tabulate([['90%', CVaR_90], ['95%', CVaR_95], ['99%', CVaR_99]], headers=['Confidence Level', 'Conditional Value at Risk (Expected Loss)']))"
   ]
  },
  {
   "cell_type": "code",
   "execution_count": null,
   "id": "2c42e96a",
   "metadata": {},
   "outputs": [],
   "source": []
  }
 ],
 "metadata": {
  "kernelspec": {
   "display_name": "Python 3 (ipykernel)",
   "language": "python",
   "name": "python3"
  },
  "language_info": {
   "codemirror_mode": {
    "name": "ipython",
    "version": 3
   },
   "file_extension": ".py",
   "mimetype": "text/x-python",
   "name": "python",
   "nbconvert_exporter": "python",
   "pygments_lexer": "ipython3",
   "version": "3.11.5"
  }
 },
 "nbformat": 4,
 "nbformat_minor": 5
}
