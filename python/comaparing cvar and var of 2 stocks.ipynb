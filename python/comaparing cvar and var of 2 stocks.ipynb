{
 "cells": [
  {
   "cell_type": "code",
   "execution_count": 1,
   "id": "1475ff59",
   "metadata": {},
   "outputs": [],
   "source": [
    "import pandas as pd\n",
    "import numpy as np\n",
    "import matplotlib.pyplot as plt\n",
    "from scipy.stats import norm\n",
    "from tabulate import tabulate\n",
    "import yfinance as yf\n",
    "%matplotlib inline"
   ]
  },
  {
   "cell_type": "code",
   "execution_count": 47,
   "id": "1759b9a1",
   "metadata": {},
   "outputs": [
    {
     "name": "stderr",
     "output_type": "stream",
     "text": [
      "[*********************100%%**********************]  1 of 1 completed\n"
     ]
    },
    {
     "data": {
      "text/html": [
       "<div>\n",
       "<style scoped>\n",
       "    .dataframe tbody tr th:only-of-type {\n",
       "        vertical-align: middle;\n",
       "    }\n",
       "\n",
       "    .dataframe tbody tr th {\n",
       "        vertical-align: top;\n",
       "    }\n",
       "\n",
       "    .dataframe thead th {\n",
       "        text-align: right;\n",
       "    }\n",
       "</style>\n",
       "<table border=\"1\" class=\"dataframe\">\n",
       "  <thead>\n",
       "    <tr style=\"text-align: right;\">\n",
       "      <th></th>\n",
       "      <th>Open</th>\n",
       "      <th>High</th>\n",
       "      <th>Low</th>\n",
       "      <th>Close</th>\n",
       "      <th>Adj Close</th>\n",
       "      <th>Volume</th>\n",
       "    </tr>\n",
       "    <tr>\n",
       "      <th>Date</th>\n",
       "      <th></th>\n",
       "      <th></th>\n",
       "      <th></th>\n",
       "      <th></th>\n",
       "      <th></th>\n",
       "      <th></th>\n",
       "    </tr>\n",
       "  </thead>\n",
       "  <tbody>\n",
       "    <tr>\n",
       "      <th>2016-01-04</th>\n",
       "      <td>15.381333</td>\n",
       "      <td>15.425333</td>\n",
       "      <td>14.600000</td>\n",
       "      <td>14.894000</td>\n",
       "      <td>14.894000</td>\n",
       "      <td>102406500</td>\n",
       "    </tr>\n",
       "    <tr>\n",
       "      <th>2016-01-05</th>\n",
       "      <td>15.090667</td>\n",
       "      <td>15.126000</td>\n",
       "      <td>14.666667</td>\n",
       "      <td>14.895333</td>\n",
       "      <td>14.895333</td>\n",
       "      <td>47802000</td>\n",
       "    </tr>\n",
       "    <tr>\n",
       "      <th>2016-01-06</th>\n",
       "      <td>14.666667</td>\n",
       "      <td>14.670000</td>\n",
       "      <td>14.398667</td>\n",
       "      <td>14.602667</td>\n",
       "      <td>14.602667</td>\n",
       "      <td>56686500</td>\n",
       "    </tr>\n",
       "    <tr>\n",
       "      <th>2016-01-07</th>\n",
       "      <td>14.279333</td>\n",
       "      <td>14.562667</td>\n",
       "      <td>14.244667</td>\n",
       "      <td>14.376667</td>\n",
       "      <td>14.376667</td>\n",
       "      <td>53314500</td>\n",
       "    </tr>\n",
       "    <tr>\n",
       "      <th>2016-01-08</th>\n",
       "      <td>14.524000</td>\n",
       "      <td>14.696000</td>\n",
       "      <td>14.051333</td>\n",
       "      <td>14.066667</td>\n",
       "      <td>14.066667</td>\n",
       "      <td>54421500</td>\n",
       "    </tr>\n",
       "    <tr>\n",
       "      <th>...</th>\n",
       "      <td>...</td>\n",
       "      <td>...</td>\n",
       "      <td>...</td>\n",
       "      <td>...</td>\n",
       "      <td>...</td>\n",
       "      <td>...</td>\n",
       "    </tr>\n",
       "    <tr>\n",
       "      <th>2024-02-23</th>\n",
       "      <td>195.309998</td>\n",
       "      <td>197.570007</td>\n",
       "      <td>191.500000</td>\n",
       "      <td>191.970001</td>\n",
       "      <td>191.970001</td>\n",
       "      <td>78841900</td>\n",
       "    </tr>\n",
       "    <tr>\n",
       "      <th>2024-02-26</th>\n",
       "      <td>192.289993</td>\n",
       "      <td>201.779999</td>\n",
       "      <td>192.000000</td>\n",
       "      <td>199.399994</td>\n",
       "      <td>199.399994</td>\n",
       "      <td>111747100</td>\n",
       "    </tr>\n",
       "    <tr>\n",
       "      <th>2024-02-27</th>\n",
       "      <td>204.039993</td>\n",
       "      <td>205.600006</td>\n",
       "      <td>198.259995</td>\n",
       "      <td>199.729996</td>\n",
       "      <td>199.729996</td>\n",
       "      <td>108645400</td>\n",
       "    </tr>\n",
       "    <tr>\n",
       "      <th>2024-02-28</th>\n",
       "      <td>200.419998</td>\n",
       "      <td>205.300003</td>\n",
       "      <td>198.440002</td>\n",
       "      <td>202.039993</td>\n",
       "      <td>202.039993</td>\n",
       "      <td>99806200</td>\n",
       "    </tr>\n",
       "    <tr>\n",
       "      <th>2024-02-29</th>\n",
       "      <td>204.179993</td>\n",
       "      <td>205.279999</td>\n",
       "      <td>198.449997</td>\n",
       "      <td>201.880005</td>\n",
       "      <td>201.880005</td>\n",
       "      <td>85907000</td>\n",
       "    </tr>\n",
       "  </tbody>\n",
       "</table>\n",
       "<p>2053 rows × 6 columns</p>\n",
       "</div>"
      ],
      "text/plain": [
       "                  Open        High         Low       Close   Adj Close  \\\n",
       "Date                                                                     \n",
       "2016-01-04   15.381333   15.425333   14.600000   14.894000   14.894000   \n",
       "2016-01-05   15.090667   15.126000   14.666667   14.895333   14.895333   \n",
       "2016-01-06   14.666667   14.670000   14.398667   14.602667   14.602667   \n",
       "2016-01-07   14.279333   14.562667   14.244667   14.376667   14.376667   \n",
       "2016-01-08   14.524000   14.696000   14.051333   14.066667   14.066667   \n",
       "...                ...         ...         ...         ...         ...   \n",
       "2024-02-23  195.309998  197.570007  191.500000  191.970001  191.970001   \n",
       "2024-02-26  192.289993  201.779999  192.000000  199.399994  199.399994   \n",
       "2024-02-27  204.039993  205.600006  198.259995  199.729996  199.729996   \n",
       "2024-02-28  200.419998  205.300003  198.440002  202.039993  202.039993   \n",
       "2024-02-29  204.179993  205.279999  198.449997  201.880005  201.880005   \n",
       "\n",
       "               Volume  \n",
       "Date                   \n",
       "2016-01-04  102406500  \n",
       "2016-01-05   47802000  \n",
       "2016-01-06   56686500  \n",
       "2016-01-07   53314500  \n",
       "2016-01-08   54421500  \n",
       "...               ...  \n",
       "2024-02-23   78841900  \n",
       "2024-02-26  111747100  \n",
       "2024-02-27  108645400  \n",
       "2024-02-28   99806200  \n",
       "2024-02-29   85907000  \n",
       "\n",
       "[2053 rows x 6 columns]"
      ]
     },
     "execution_count": 47,
     "metadata": {},
     "output_type": "execute_result"
    }
   ],
   "source": [
    "tesla= \"tsla\"\n",
    "tesla_data = yf.download(tesla, start=\"2016-01-04\", end=\"2024-03-01\")\n",
    "tesla_data.dropna()"
   ]
  },
  {
   "cell_type": "code",
   "execution_count": 51,
   "id": "c2a6d876",
   "metadata": {},
   "outputs": [
    {
     "data": {
      "text/plain": [
       "Date\n",
       "2016-01-05    0.000090\n",
       "2016-01-06   -0.019648\n",
       "2016-01-07   -0.015477\n",
       "2016-01-08   -0.021563\n",
       "2016-01-11   -0.014929\n",
       "                ...   \n",
       "2024-02-23   -0.027557\n",
       "2024-02-26    0.038704\n",
       "2024-02-27    0.001655\n",
       "2024-02-28    0.011566\n",
       "2024-02-29   -0.000792\n",
       "Name: Adj Close, Length: 2052, dtype: float64"
      ]
     },
     "execution_count": 51,
     "metadata": {},
     "output_type": "execute_result"
    }
   ],
   "source": [
    "daily_close_pct_change_tsla = tesla_data['Adj Close'].pct_change()\n",
    "daily_close_pct_change_tsla.dropna()"
   ]
  },
  {
   "cell_type": "code",
   "execution_count": 52,
   "id": "9f22cecc",
   "metadata": {},
   "outputs": [],
   "source": [
    "daily_close_pct_change_tsla.sort_values(inplace=True, ascending=True)"
   ]
  },
  {
   "cell_type": "code",
   "execution_count": 53,
   "id": "da07c1d7",
   "metadata": {},
   "outputs": [
    {
     "name": "stdout",
     "output_type": "stream",
     "text": [
      "Confidence Level    Value at Risk\n",
      "------------------  --------------------------\n",
      "90%                 Ticker\n",
      "                    TSLA   -0.036552\n",
      "                    VFS    -0.107741\n",
      "                    Name: 0.1, dtype: float64\n",
      "95%                 Ticker\n",
      "                    TSLA   -0.052913\n",
      "                    VFS    -0.164641\n",
      "                    Name: 0.05, dtype: float64\n",
      "99%                 Ticker\n",
      "                    TSLA   -0.095143\n",
      "                    VFS    -0.295033\n",
      "                    Name: 0.01, dtype: float64\n"
     ]
    }
   ],
   "source": [
    "VaR_90 = daily_close_pct_change.quantile(0.1)\n",
    "VaR_95 = daily_close_pct_change.quantile(0.05)\n",
    "VaR_99 = daily_close_pct_change.quantile(0.01)\n",
    "print(tabulate([['90%', VaR_90], ['95%', VaR_95], ['99%', VaR_99]], headers=['Confidence Level', 'Value at Risk']))"
   ]
  },
  {
   "cell_type": "code",
   "execution_count": 54,
   "id": "9b3296b9",
   "metadata": {},
   "outputs": [
    {
     "name": "stdout",
     "output_type": "stream",
     "text": [
      "Confidence Level    Conditional Value at Risk (Expected Loss)\n",
      "------------------  -------------------------------------------\n",
      "90%                 Ticker\n",
      "                    TSLA   -0.063232\n",
      "                    VFS    -0.201031\n",
      "                    dtype: float64\n",
      "95%                 Ticker\n",
      "                    TSLA   -0.082100\n",
      "                    VFS    -0.265651\n",
      "                    dtype: float64\n",
      "99%                 Ticker\n",
      "                    TSLA   -0.130202\n",
      "                    VFS    -0.374596\n",
      "                    dtype: float64\n"
     ]
    }
   ],
   "source": [
    "CVaR_90 = daily_close_pct_change[daily_close_pct_change <= VaR_90].mean()\n",
    "CVaR_95 = daily_close_pct_change[daily_close_pct_change <= VaR_95].mean()\n",
    "CVaR_99 = daily_close_pct_change[daily_close_pct_change <= VaR_99].mean()\n",
    "\n",
    "print(tabulate([['90%', CVaR_90], ['95%', CVaR_95], ['99%', CVaR_99]], headers=['Confidence Level', 'Conditional Value at Risk (Expected Loss)']))"
   ]
  },
  {
   "cell_type": "code",
   "execution_count": null,
   "id": "aeb2dc2e",
   "metadata": {},
   "outputs": [],
   "source": []
  }
 ],
 "metadata": {
  "kernelspec": {
   "display_name": "Python 3 (ipykernel)",
   "language": "python",
   "name": "python3"
  },
  "language_info": {
   "codemirror_mode": {
    "name": "ipython",
    "version": 3
   },
   "file_extension": ".py",
   "mimetype": "text/x-python",
   "name": "python",
   "nbconvert_exporter": "python",
   "pygments_lexer": "ipython3",
   "version": "3.11.5"
  }
 },
 "nbformat": 4,
 "nbformat_minor": 5
}
